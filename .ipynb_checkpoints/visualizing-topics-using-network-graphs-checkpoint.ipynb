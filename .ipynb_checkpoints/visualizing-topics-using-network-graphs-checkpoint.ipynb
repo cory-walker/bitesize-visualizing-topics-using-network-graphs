{
 "cells": [
  {
   "cell_type": "markdown",
   "metadata": {},
   "source": [
    "# Visualizing topic words and connections using pyvis\n",
    "\n",
    "Visualizing a network and make understanding the relationships much easier. In this notebook, we are connecting the top words per cluster for sci-kit learn's 20newsgroups<br>\n",
    "\n",
    "1. Load and prepare the data"
   ]
  },
  {
   "cell_type": "code",
   "execution_count": 6,
   "metadata": {},
   "outputs": [],
   "source": [
    "import pandas as pd\n",
    "from pyvis.network import Network\n",
    "\n",
    "df = pd.read_csv('20newsgroups_top_words.csv')\n",
    "df = df[df['probability'] > 0] #exclude words with no probability\n",
    "\n",
    "# limit the graph to the first 30 topics to make loading much faster\n",
    "df = df[(df['topic'].astype(int) >= 0) & (df['topic'].astype(int) < 30)]\n",
    "\n",
    "df['topic'] = df['topic'].astype(str)\n",
    "df['word'] = df['word'].astype(str)"
   ]
  },
  {
   "cell_type": "markdown",
   "metadata": {},
   "source": [
    "2. Generate the graph, using the data to determine things like node size. Keep a running list of drawn nodes so you can bridge the topics when needed"
   ]
  },
  {
   "cell_type": "code",
   "execution_count": 7,
   "metadata": {},
   "outputs": [
    {
     "data": {
      "text/html": [
       "\n",
       "        <iframe\n",
       "            width=\"800px\"\n",
       "            height=\"800px\"\n",
       "            src=\"20 news groups topic words.html\"\n",
       "            frameborder=\"0\"\n",
       "            allowfullscreen\n",
       "        ></iframe>\n",
       "        "
      ],
      "text/plain": [
       "<IPython.lib.display.IFrame at 0x2003c840888>"
      ]
     },
     "execution_count": 7,
     "metadata": {},
     "output_type": "execute_result"
    }
   ],
   "source": [
    "graph_name = '20 news groups topic words'\n",
    "\n",
    "net = Network(notebook=True)\n",
    "net.width = '800px'\n",
    "net.height = '800px'\n",
    "net.heading = graph_name\n",
    "\n",
    "nodes = [] # used to determine if the node was already drawn\n",
    "\n",
    "#Iterate through the records, drawing each node and connection as you go\n",
    "for index,row in df.iterrows():\n",
    "    source = row['topic']\n",
    "    target = row['word']\n",
    "    color = '#950001'\n",
    "    \n",
    "    if not source in nodes:\n",
    "        nodes.append(source)\n",
    "        size = 10\n",
    "        net.add_node(source,source,title=source,size=size,color=color)\n",
    "        \n",
    "    if not target in nodes:\n",
    "        nodes.append(target)\n",
    "        size = row['probability'] * 100\n",
    "        net.add_node(target,target,title=target,size=size,color=color)\n",
    "    \n",
    "    weight = df[df['word']==target].shape[0]\n",
    "    if weight > 1:\n",
    "        weight = weight * 5\n",
    "    net.add_edge(source,target,weight=weight,color=color)\n",
    "    \n",
    "# Save, then show the graph\n",
    "net.save_graph(graph_name + '.html')\n",
    "net.show(graph_name + '.html')"
   ]
  },
  {
   "cell_type": "code",
   "execution_count": null,
   "metadata": {},
   "outputs": [],
   "source": []
  }
 ],
 "metadata": {
  "kernelspec": {
   "display_name": "Python 3",
   "language": "python",
   "name": "python3"
  },
  "language_info": {
   "codemirror_mode": {
    "name": "ipython",
    "version": 3
   },
   "file_extension": ".py",
   "mimetype": "text/x-python",
   "name": "python",
   "nbconvert_exporter": "python",
   "pygments_lexer": "ipython3",
   "version": "3.7.4"
  }
 },
 "nbformat": 4,
 "nbformat_minor": 4
}
